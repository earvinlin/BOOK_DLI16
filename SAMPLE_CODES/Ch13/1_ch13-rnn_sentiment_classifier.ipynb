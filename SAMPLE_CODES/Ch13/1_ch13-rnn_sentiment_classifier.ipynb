{
 "cells": [
  {
   "cell_type": "code",
   "execution_count": 1,
   "metadata": {
    "colab": {
     "base_uri": "https://localhost:8080/"
    },
    "executionInfo": {
     "elapsed": 28388,
     "status": "ok",
     "timestamp": 1629695872301,
     "user": {
      "displayName": "Tristan Chang",
      "photoUrl": "https://lh3.googleusercontent.com/a-/AOh14Gh12xA8ZXwa1dgzXFsLj_MwkqJdmxu_hK6DdwmvTQ=s64",
      "userId": "01396821554749831700"
     },
     "user_tz": -480
    },
    "id": "LQDMIf23cPRZ",
    "outputId": "06edf272-93f3-45c2-89f9-a579efe4c02d"
   },
   "outputs": [
    {
     "name": "stdout",
     "output_type": "stream",
     "text": [
      "Mounted at /content/drive\n"
     ]
    }
   ],
   "source": [
    "#!!!!注意，請先執行這個區塊，依網頁指示通過授權後載入 Google 雲端硬碟, 再執行底下的程式\n",
    "from google.colab import drive\n",
    "drive.mount('/content/drive')"
   ]
  },
  {
   "cell_type": "markdown",
   "metadata": {
    "id": "DJrBiuZJXqal"
   },
   "source": [
    "# Ch13 自然語言處理實戰演練 (三)：RNN 循環神經網路"
   ]
  },
  {
   "cell_type": "markdown",
   "metadata": {
    "id": "jQYFH6zBPY90"
   },
   "source": [
    "#### 13.1.2 用 tf.Keras 實作 RNN"
   ]
  },
  {
   "cell_type": "markdown",
   "metadata": {
    "id": "cWnah5qPXqaq"
   },
   "source": [
    "#### 載入套件"
   ]
  },
  {
   "cell_type": "code",
   "execution_count": 2,
   "metadata": {
    "executionInfo": {
     "elapsed": 2782,
     "status": "ok",
     "timestamp": 1629695875077,
     "user": {
      "displayName": "Tristan Chang",
      "photoUrl": "https://lh3.googleusercontent.com/a-/AOh14Gh12xA8ZXwa1dgzXFsLj_MwkqJdmxu_hK6DdwmvTQ=s64",
      "userId": "01396821554749831700"
     },
     "user_tz": -480
    },
    "id": "79tWOvXWXqaq"
   },
   "outputs": [],
   "source": [
    "from tensorflow.keras.datasets import imdb\n",
    "from tensorflow.keras.preprocessing.sequence import pad_sequences\n",
    "from tensorflow.keras.models import Sequential\n",
    "from tensorflow.keras.layers import Dense, Dropout, Embedding, SpatialDropout1D\n",
    "from tensorflow.keras.layers import SimpleRNN # new! \n",
    "from tensorflow.keras.callbacks import ModelCheckpoint\n",
    "import os\n",
    "from sklearn.metrics import roc_auc_score \n",
    "import matplotlib.pyplot as plt \n",
    "%matplotlib inline"
   ]
  },
  {
   "cell_type": "markdown",
   "metadata": {
    "id": "trGMdXcgXqar"
   },
   "source": [
    "#### 設定超參數"
   ]
  },
  {
   "cell_type": "code",
   "execution_count": 5,
   "metadata": {
    "executionInfo": {
     "elapsed": 6,
     "status": "ok",
     "timestamp": 1629695881168,
     "user": {
      "displayName": "Tristan Chang",
      "photoUrl": "https://lh3.googleusercontent.com/a-/AOh14Gh12xA8ZXwa1dgzXFsLj_MwkqJdmxu_hK6DdwmvTQ=s64",
      "userId": "01396821554749831700"
     },
     "user_tz": -480
    },
    "id": "L0kfKPYRXqar"
   },
   "outputs": [],
   "source": [
    "# 輸出目錄名稱\n",
    "output_dir = '/content/drive/MyDrive/Colab Notebooks/F1383_Sample/Ch13/model_output/rnn'  #註：請記得依你存放的位置彈性修改路徑\n",
    "\n",
    "# 訓練\n",
    "epochs = 16 # 增加訓練週期\n",
    "batch_size = 128\n",
    "\n",
    "# 詞向量空間\n",
    "n_dim = 64 \n",
    "n_unique_words = 10000 \n",
    "max_review_length = 100 # lowered due to vanishing gradient over time\n",
    "pad_type = trunc_type = 'pre'\n",
    "drop_embed = 0.2 \n",
    "\n",
    "# RNN 的循環層參數\n",
    "n_rnn = 256 \n",
    "drop_rnn = 0.2\n",
    "\n",
    "# 密集層參數\n",
    "# n_dense = 256\n",
    "# dropout = 0.2"
   ]
  },
  {
   "cell_type": "markdown",
   "metadata": {
    "id": "Aq2qOv7FXqas"
   },
   "source": [
    "#### 下載資料集"
   ]
  },
  {
   "cell_type": "code",
   "execution_count": 4,
   "metadata": {
    "colab": {
     "base_uri": "https://localhost:8080/"
    },
    "executionInfo": {
     "elapsed": 6095,
     "status": "ok",
     "timestamp": 1629695881167,
     "user": {
      "displayName": "Tristan Chang",
      "photoUrl": "https://lh3.googleusercontent.com/a-/AOh14Gh12xA8ZXwa1dgzXFsLj_MwkqJdmxu_hK6DdwmvTQ=s64",
      "userId": "01396821554749831700"
     },
     "user_tz": -480
    },
    "id": "mj-rFDe9Xqas",
    "outputId": "f7e34971-584d-4e8f-971b-efef5e25aba9"
   },
   "outputs": [
    {
     "name": "stdout",
     "output_type": "stream",
     "text": [
      "Downloading data from https://storage.googleapis.com/tensorflow/tf-keras-datasets/imdb.npz\n",
      "17465344/17464789 [==============================] - 0s 0us/step\n",
      "17473536/17464789 [==============================] - 0s 0us/step\n"
     ]
    }
   ],
   "source": [
    "(x_train, y_train), (x_test, y_test) = imdb.load_data(num_words=n_unique_words)"
   ]
  },
  {
   "cell_type": "markdown",
   "metadata": {
    "id": "nFOlAAqDXqat"
   },
   "source": [
    "#### 資料預處理"
   ]
  },
  {
   "cell_type": "code",
   "execution_count": 6,
   "metadata": {
    "executionInfo": {
     "elapsed": 1165,
     "status": "ok",
     "timestamp": 1629695885217,
     "user": {
      "displayName": "Tristan Chang",
      "photoUrl": "https://lh3.googleusercontent.com/a-/AOh14Gh12xA8ZXwa1dgzXFsLj_MwkqJdmxu_hK6DdwmvTQ=s64",
      "userId": "01396821554749831700"
     },
     "user_tz": -480
    },
    "id": "GLz1TXrNXqat"
   },
   "outputs": [],
   "source": [
    "x_train = pad_sequences(x_train, maxlen=max_review_length, padding=pad_type, truncating=trunc_type, value=0)\n",
    "x_test = pad_sequences(x_test, maxlen=max_review_length, padding=pad_type, truncating=trunc_type, value=0)"
   ]
  },
  {
   "cell_type": "markdown",
   "metadata": {
    "collapsed": true,
    "id": "gqeoPFRvXqau",
    "jupyter": {
     "outputs_hidden": true
    }
   },
   "source": [
    "#### RNN 分類模型架構"
   ]
  },
  {
   "cell_type": "code",
   "execution_count": 7,
   "metadata": {
    "executionInfo": {
     "elapsed": 680,
     "status": "ok",
     "timestamp": 1629695887963,
     "user": {
      "displayName": "Tristan Chang",
      "photoUrl": "https://lh3.googleusercontent.com/a-/AOh14Gh12xA8ZXwa1dgzXFsLj_MwkqJdmxu_hK6DdwmvTQ=s64",
      "userId": "01396821554749831700"
     },
     "user_tz": -480
    },
    "id": "aT1C5c91Xqau"
   },
   "outputs": [],
   "source": [
    "model = Sequential()\n",
    "model.add(Embedding(n_unique_words, n_dim, input_length=max_review_length)) \n",
    "model.add(SpatialDropout1D(drop_embed))\n",
    "model.add(SimpleRNN(n_rnn, dropout=drop_rnn))\n",
    "# model.add(Dense(n_dense, activation='relu')) \n",
    "# model.add(Dropout(dropout))\n",
    "model.add(Dense(1, activation='sigmoid'))"
   ]
  },
  {
   "cell_type": "code",
   "execution_count": 8,
   "metadata": {
    "colab": {
     "base_uri": "https://localhost:8080/"
    },
    "executionInfo": {
     "elapsed": 241,
     "status": "ok",
     "timestamp": 1629695889423,
     "user": {
      "displayName": "Tristan Chang",
      "photoUrl": "https://lh3.googleusercontent.com/a-/AOh14Gh12xA8ZXwa1dgzXFsLj_MwkqJdmxu_hK6DdwmvTQ=s64",
      "userId": "01396821554749831700"
     },
     "user_tz": -480
    },
    "id": "Fxx6B1oPXqav",
    "outputId": "e5834660-809c-4f5b-8f9e-2aab73ab3763"
   },
   "outputs": [
    {
     "name": "stdout",
     "output_type": "stream",
     "text": [
      "Model: \"sequential\"\n",
      "_________________________________________________________________\n",
      "Layer (type)                 Output Shape              Param #   \n",
      "=================================================================\n",
      "embedding (Embedding)        (None, 100, 64)           640000    \n",
      "_________________________________________________________________\n",
      "spatial_dropout1d (SpatialDr (None, 100, 64)           0         \n",
      "_________________________________________________________________\n",
      "simple_rnn (SimpleRNN)       (None, 256)               82176     \n",
      "_________________________________________________________________\n",
      "dense (Dense)                (None, 1)                 257       \n",
      "=================================================================\n",
      "Total params: 722,433\n",
      "Trainable params: 722,433\n",
      "Non-trainable params: 0\n",
      "_________________________________________________________________\n"
     ]
    }
   ],
   "source": [
    "model.summary() "
   ]
  },
  {
   "cell_type": "markdown",
   "metadata": {
    "id": "syAw3yUkXqaw"
   },
   "source": [
    "#### 編譯、訓練模型"
   ]
  },
  {
   "cell_type": "code",
   "execution_count": 9,
   "metadata": {
    "executionInfo": {
     "elapsed": 264,
     "status": "ok",
     "timestamp": 1629695897127,
     "user": {
      "displayName": "Tristan Chang",
      "photoUrl": "https://lh3.googleusercontent.com/a-/AOh14Gh12xA8ZXwa1dgzXFsLj_MwkqJdmxu_hK6DdwmvTQ=s64",
      "userId": "01396821554749831700"
     },
     "user_tz": -480
    },
    "id": "tJ4nDSxcXqaw"
   },
   "outputs": [],
   "source": [
    "model.compile(loss='binary_crossentropy', optimizer='adam', metrics=['accuracy'])"
   ]
  },
  {
   "cell_type": "code",
   "execution_count": 10,
   "metadata": {
    "executionInfo": {
     "elapsed": 682,
     "status": "ok",
     "timestamp": 1629695899410,
     "user": {
      "displayName": "Tristan Chang",
      "photoUrl": "https://lh3.googleusercontent.com/a-/AOh14Gh12xA8ZXwa1dgzXFsLj_MwkqJdmxu_hK6DdwmvTQ=s64",
      "userId": "01396821554749831700"
     },
     "user_tz": -480
    },
    "id": "Edc1bo5JXqaw"
   },
   "outputs": [],
   "source": [
    "modelcheckpoint = ModelCheckpoint(filepath=output_dir+\"/weights.{epoch:02d}.hdf5\")\n",
    "if not os.path.exists(output_dir):\n",
    "    os.makedirs(output_dir)"
   ]
  },
  {
   "cell_type": "code",
   "execution_count": 11,
   "metadata": {
    "colab": {
     "base_uri": "https://localhost:8080/"
    },
    "executionInfo": {
     "elapsed": 1044126,
     "status": "ok",
     "timestamp": 1629696945359,
     "user": {
      "displayName": "Tristan Chang",
      "photoUrl": "https://lh3.googleusercontent.com/a-/AOh14Gh12xA8ZXwa1dgzXFsLj_MwkqJdmxu_hK6DdwmvTQ=s64",
      "userId": "01396821554749831700"
     },
     "user_tz": -480
    },
    "id": "D5ziXd6gXqax",
    "outputId": "d745e18a-54a5-467a-d03f-6d7424f9b60d"
   },
   "outputs": [
    {
     "name": "stdout",
     "output_type": "stream",
     "text": [
      "Epoch 1/16\n",
      "196/196 [==============================] - 65s 323ms/step - loss: 0.6949 - accuracy: 0.5262 - val_loss: 0.6817 - val_accuracy: 0.5454\n",
      "Epoch 2/16\n",
      "196/196 [==============================] - 63s 320ms/step - loss: 0.6797 - accuracy: 0.5647 - val_loss: 0.6827 - val_accuracy: 0.5374\n",
      "Epoch 3/16\n",
      "196/196 [==============================] - 63s 324ms/step - loss: 0.6319 - accuracy: 0.6381 - val_loss: 0.6552 - val_accuracy: 0.5871\n",
      "Epoch 4/16\n",
      "196/196 [==============================] - 63s 320ms/step - loss: 0.6039 - accuracy: 0.6685 - val_loss: 0.6361 - val_accuracy: 0.6244\n",
      "Epoch 5/16\n",
      "196/196 [==============================] - 63s 322ms/step - loss: 0.5375 - accuracy: 0.7292 - val_loss: 0.5491 - val_accuracy: 0.7297\n",
      "Epoch 6/16\n",
      "196/196 [==============================] - 63s 320ms/step - loss: 0.4841 - accuracy: 0.7689 - val_loss: 0.5208 - val_accuracy: 0.7720\n",
      "Epoch 7/16\n",
      "196/196 [==============================] - 62s 319ms/step - loss: 0.4160 - accuracy: 0.8108 - val_loss: 0.5298 - val_accuracy: 0.7538\n",
      "Epoch 8/16\n",
      "196/196 [==============================] - 63s 319ms/step - loss: 0.4116 - accuracy: 0.8178 - val_loss: 0.5185 - val_accuracy: 0.7756\n",
      "Epoch 9/16\n",
      "196/196 [==============================] - 63s 320ms/step - loss: 0.3510 - accuracy: 0.8558 - val_loss: 0.4999 - val_accuracy: 0.7951\n",
      "Epoch 10/16\n",
      "196/196 [==============================] - 63s 320ms/step - loss: 0.3606 - accuracy: 0.8488 - val_loss: 0.5192 - val_accuracy: 0.7645\n",
      "Epoch 11/16\n",
      "196/196 [==============================] - 63s 321ms/step - loss: 0.2949 - accuracy: 0.8836 - val_loss: 0.5199 - val_accuracy: 0.7971\n",
      "Epoch 12/16\n",
      "196/196 [==============================] - 63s 320ms/step - loss: 0.2601 - accuracy: 0.9002 - val_loss: 0.5114 - val_accuracy: 0.7922\n",
      "Epoch 13/16\n",
      "196/196 [==============================] - 62s 318ms/step - loss: 0.2415 - accuracy: 0.9095 - val_loss: 0.5248 - val_accuracy: 0.7878\n",
      "Epoch 14/16\n",
      "196/196 [==============================] - 62s 318ms/step - loss: 0.2330 - accuracy: 0.9127 - val_loss: 0.5391 - val_accuracy: 0.7881\n",
      "Epoch 15/16\n",
      "196/196 [==============================] - 62s 319ms/step - loss: 0.2055 - accuracy: 0.9254 - val_loss: 0.5518 - val_accuracy: 0.7871\n",
      "Epoch 16/16\n",
      "196/196 [==============================] - 62s 317ms/step - loss: 0.1892 - accuracy: 0.9326 - val_loss: 0.5682 - val_accuracy: 0.7726\n"
     ]
    },
    {
     "data": {
      "text/plain": [
       "<keras.callbacks.History at 0x7fe05a8ec710>"
      ]
     },
     "execution_count": 11,
     "metadata": {},
     "output_type": "execute_result"
    }
   ],
   "source": [
    "#註：由於神經網路的初始權重參數是隨機設定的, 參雜了隨機性, 因此底下 (或您重跑一次) 的結果不會與書中完全一樣, 但模型的能力是相近的\n",
    "model.fit(x_train, y_train, batch_size=batch_size, epochs=epochs, verbose=1, validation_data=(x_test, y_test), callbacks=[modelcheckpoint])"
   ]
  },
  {
   "cell_type": "markdown",
   "metadata": {
    "collapsed": true,
    "id": "_Sl9qEj_Xqay",
    "jupyter": {
     "outputs_hidden": true
    }
   },
   "source": [
    "#### 評估結果"
   ]
  },
  {
   "cell_type": "code",
   "execution_count": null,
   "metadata": {
    "id": "9Nqd6C70Xqay"
   },
   "outputs": [],
   "source": [
    "model.load_weights(output_dir+\"/weights.05.hdf5\")  #請視以上執行結果指定較佳的權重"
   ]
  },
  {
   "cell_type": "code",
   "execution_count": null,
   "metadata": {
    "id": "7Jm5fqddXqay"
   },
   "outputs": [],
   "source": [
    "y_hat = model.predict(x_test)"
   ]
  },
  {
   "cell_type": "code",
   "execution_count": null,
   "metadata": {
    "colab": {
     "base_uri": "https://localhost:8080/",
     "height": 269
    },
    "executionInfo": {
     "elapsed": 519,
     "status": "ok",
     "timestamp": 1629459092602,
     "user": {
      "displayName": "Tristan Chang",
      "photoUrl": "https://lh3.googleusercontent.com/a-/AOh14Gh12xA8ZXwa1dgzXFsLj_MwkqJdmxu_hK6DdwmvTQ=s64",
      "userId": "01396821554749831700"
     },
     "user_tz": -480
    },
    "id": "XBuHZpB0Xqay",
    "outputId": "1e85fb0b-242b-4a19-9284-860498735d59"
   },
   "outputs": [
    {
     "data": {
      "image/png": "[encoded data removed]",
      "text/plain": [
       "<Figure size 432x288 with 1 Axes>"
      ]
     },
     "metadata": {
      "needs_background": "light"
     },
     "output_type": "display_data"
    }
   ],
   "source": [
    "plt.hist(y_hat)\n",
    "_ = plt.axvline(x=0.5, color='orange')"
   ]
  },
  {
   "cell_type": "code",
   "execution_count": null,
   "metadata": {
    "colab": {
     "base_uri": "https://localhost:8080/",
     "height": 35
    },
    "executionInfo": {
     "elapsed": 454,
     "status": "ok",
     "timestamp": 1629459100202,
     "user": {
      "displayName": "Tristan Chang",
      "photoUrl": "https://lh3.googleusercontent.com/a-/AOh14Gh12xA8ZXwa1dgzXFsLj_MwkqJdmxu_hK6DdwmvTQ=s64",
      "userId": "01396821554749831700"
     },
     "user_tz": -480
    },
    "id": "-O4zCyjmXqaz",
    "outputId": "2d9eb679-cf01-4b1b-fc04-761ed0d25725"
   },
   "outputs": [
    {
     "data": {
      "application/vnd.google.colaboratory.intrinsic+json": {
       "type": "string"
      },
      "text/plain": [
       "'88.36'"
      ]
     },
     "execution_count": 15,
     "metadata": {},
     "output_type": "execute_result"
    }
   ],
   "source": [
    "#註：由於神經網路的初始權重參數是隨機設定的, 參雜了隨機性, 因此底下 (或您重跑一次) 的結果不會與書中完全一樣, 但模型能力基本上是相近的\n",
    "\"{:0.2f}\".format(roc_auc_score(y_test, y_hat)*100.0)"
   ]
  }
 ],
 "metadata": {
  "colab": {
   "collapsed_sections": [],
   "name": "1_ch13-rnn_sentiment_classifier.ipynb",
   "provenance": []
  },
  "kernelspec": {
   "display_name": "Python 3 (ipykernel)",
   "language": "python",
   "name": "python3"
  },
  "language_info": {
   "codemirror_mode": {
    "name": "ipython",
    "version": 3
   },
   "file_extension": ".py",
   "mimetype": "text/x-python",
   "name": "python",
   "nbconvert_exporter": "python",
   "pygments_lexer": "ipython3",
   "version": "3.11.5"
  }
 },
 "nbformat": 4,
 "nbformat_minor": 4
}
